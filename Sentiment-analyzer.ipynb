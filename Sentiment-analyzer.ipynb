{
 "cells": [
  {
   "cell_type": "code",
   "execution_count": 1,
   "metadata": {},
   "outputs": [],
   "source": [
    "import streamlit as st\n",
    "import os\n",
    "from groq import Groq\n",
    "from dotenv import load_dotenv\n"
   ]
  },
  {
   "cell_type": "code",
   "execution_count": 2,
   "metadata": {},
   "outputs": [
    {
     "data": {
      "text/plain": [
       "True"
      ]
     },
     "execution_count": 2,
     "metadata": {},
     "output_type": "execute_result"
    }
   ],
   "source": [
    "\n",
    "# Load environment variables from .env file\n",
    "load_dotenv()\n"
   ]
  },
  {
   "cell_type": "code",
   "execution_count": 3,
   "metadata": {},
   "outputs": [],
   "source": [
    "\n",
    "# Initialize the GROQ client with the API key from environment variables\n",
    "api_key = os.getenv(\"GROQ_API_KEY\")\n",
    "if not api_key:\n",
    "    st.error(\"GROQ_API_KEY is not set. Please check your .env file.\")\n",
    "else:\n",
    "    client = Groq(api_key=api_key)\n"
   ]
  },
  {
   "cell_type": "code",
   "execution_count": 17,
   "metadata": {},
   "outputs": [],
   "source": [
    "\n",
    "# Function to perform sentiment analysis with a template prompt\n",
    "def analyze_sentiment(text):\n",
    "    try:\n",
    "        # Template prompt for sentiment analysis guidance\n",
    "        # prompt = f\"\"\"\n",
    "        # Analyze the sentiment of the following text and return the sentiment result in simple words. Indicate whether the sentiment is positive, neutral, or negative.\n",
    "\n",
    "        # Text: {text}\n",
    "        # \"\"\"\n",
    "        \n",
    "        response = client.chat.completions.create(\n",
    "            model=\"llama3-8b-8192\",\n",
    "            messages=[\n",
    "                {\n",
    "                    \"role\": \"system\",\n",
    "                    \"content\": \"Analyze the sentiment of the following text and return the sentiment result in simple words. Indicate whether the sentiment is positive, neutral, or negative.\"\n",
    "                },\n",
    "                {\n",
    "                    \"role\": \"user\",\n",
    "                    \"content\": text,\n",
    "                },\n",
    "            ]\n",
    "        )\n",
    "        \n",
    "        \n",
    "        # Check if the response is successful\n",
    "        if response and response.choices:\n",
    "            return response.choices[0].message.content  # Return the sentiment analysis result\n",
    "        else:\n",
    "            st.error(\"No response from the API.\")\n",
    "            return None\n",
    "    except Exception as e:\n",
    "        st.error(f\"An error occurred: {e}\")\n",
    "        return None\n",
    "\n",
    "\n"
   ]
  },
  {
   "cell_type": "code",
   "execution_count": 18,
   "metadata": {},
   "outputs": [],
   "source": [
    "positive_news = \"Bihar Boy Receives A Record-Breaking Salary Package Of Rs 2.07 Crore From Google\"\n",
    "negative_news = \"Gujarat: 9 workers dead, 1 injured after wall collapses at construction site in Mehsana\"\n",
    "neutral_news = \"India's COVID-19 vaccination coverage crosses 100 crore mark\""
   ]
  },
  {
   "cell_type": "code",
   "execution_count": 19,
   "metadata": {},
   "outputs": [
    {
     "name": "stdout",
     "output_type": "stream",
     "text": [
      "The sentiment of this text is NEGATIVE.\n"
     ]
    }
   ],
   "source": [
    "\n",
    "result = analyze_sentiment(negative_news)\n",
    "print(result)"
   ]
  },
  {
   "cell_type": "code",
   "execution_count": 20,
   "metadata": {},
   "outputs": [
    {
     "name": "stdout",
     "output_type": "stream",
     "text": [
      "The sentiment of this text is POSITIVE.\n"
     ]
    }
   ],
   "source": [
    "result = analyze_sentiment(neutral_news)\n",
    "print(result)\n"
   ]
  },
  {
   "cell_type": "code",
   "execution_count": 24,
   "metadata": {},
   "outputs": [
    {
     "name": "stdout",
     "output_type": "stream",
     "text": [
      "The sentiment of this text is POSITIVE.\n"
     ]
    }
   ],
   "source": [
    "result = analyze_sentiment(positive_news)\n",
    "print(result)\n"
   ]
  },
  {
   "cell_type": "code",
   "execution_count": null,
   "metadata": {},
   "outputs": [],
   "source": []
  },
  {
   "cell_type": "code",
   "execution_count": null,
   "metadata": {},
   "outputs": [],
   "source": []
  }
 ],
 "metadata": {
  "kernelspec": {
   "display_name": "env",
   "language": "python",
   "name": "python3"
  },
  "language_info": {
   "codemirror_mode": {
    "name": "ipython",
    "version": 3
   },
   "file_extension": ".py",
   "mimetype": "text/x-python",
   "name": "python",
   "nbconvert_exporter": "python",
   "pygments_lexer": "ipython3",
   "version": "3.12.5"
  }
 },
 "nbformat": 4,
 "nbformat_minor": 2
}
