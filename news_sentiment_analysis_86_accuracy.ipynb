{
  "cells": [
    {
      "cell_type": "code",
      "execution_count": 2,
      "id": "cc2ad7c7",
      "metadata": {
        "_cell_guid": "b1076dfc-b9ad-4769-8c92-a6c4dae69d19",
        "_uuid": "8f2839f25d086af736a60e9eeb907d3b93b6e0e5",
        "execution": {
          "iopub.execute_input": "2024-07-21T04:46:52.420929Z",
          "iopub.status.busy": "2024-07-21T04:46:52.420165Z",
          "iopub.status.idle": "2024-07-21T04:46:53.290535Z",
          "shell.execute_reply": "2024-07-21T04:46:53.289300Z"
        },
        "id": "cc2ad7c7",
        "papermill": {
          "duration": 0.881853,
          "end_time": "2024-07-21T04:46:53.293861",
          "exception": false,
          "start_time": "2024-07-21T04:46:52.412008",
          "status": "completed"
        },
        "tags": []
      },
      "outputs": [],
      "source": []
    },
    {
      "cell_type": "code",
      "execution_count": 3,
      "id": "ad9a7641",
      "metadata": {
        "execution": {
          "iopub.execute_input": "2024-07-21T04:46:53.309338Z",
          "iopub.status.busy": "2024-07-21T04:46:53.308821Z",
          "iopub.status.idle": "2024-07-21T04:46:54.607149Z",
          "shell.execute_reply": "2024-07-21T04:46:54.606151Z"
        },
        "id": "ad9a7641",
        "papermill": {
          "duration": 1.308609,
          "end_time": "2024-07-21T04:46:54.609689",
          "exception": false,
          "start_time": "2024-07-21T04:46:53.301080",
          "status": "completed"
        },
        "tags": []
      },
      "outputs": [],
      "source": [
        "import pandas as pd\n",
        "import numpy as np\n",
        "import matplotlib.pyplot as plt\n",
        "import seaborn as sns"
      ]
    },
    {
      "cell_type": "code",
      "execution_count": 4,
      "id": "3d5dfad6",
      "metadata": {
        "colab": {
          "base_uri": "https://localhost:8080/",
          "height": 206
        },
        "execution": {
          "iopub.execute_input": "2024-07-21T04:46:54.623316Z",
          "iopub.status.busy": "2024-07-21T04:46:54.622914Z",
          "iopub.status.idle": "2024-07-21T04:46:54.734770Z",
          "shell.execute_reply": "2024-07-21T04:46:54.733783Z"
        },
        "id": "3d5dfad6",
        "outputId": "6b6ac12d-db96-4ed7-dba5-84be18daf071",
        "papermill": {
          "duration": 0.121344,
          "end_time": "2024-07-21T04:46:54.737051",
          "exception": false,
          "start_time": "2024-07-21T04:46:54.615707",
          "status": "completed"
        },
        "tags": []
      },
      "outputs": [
        {
          "data": {
            "application/vnd.google.colaboratory.intrinsic+json": {
              "summary": "{\n  \"name\": \"data\",\n  \"rows\": 3500,\n  \"fields\": [\n    {\n      \"column\": \"Source\",\n      \"properties\": {\n        \"dtype\": \"category\",\n        \"num_unique_values\": 503,\n        \"samples\": [\n          \"stnonline\",\n          \"Independent\",\n          \"bernews\"\n        ],\n        \"semantic_type\": \"\",\n        \"description\": \"\"\n      }\n    },\n    {\n      \"column\": \"Author\",\n      \"properties\": {\n        \"dtype\": \"category\",\n        \"num_unique_values\": 816,\n        \"samples\": [\n          \"Olivia Doak\",\n          \"eirik@gamereactor.no (Eirik Hyldbakk Furu)\",\n          \"Jessie Hudson\"\n        ],\n        \"semantic_type\": \"\",\n        \"description\": \"\"\n      }\n    },\n    {\n      \"column\": \"Title\",\n      \"properties\": {\n        \"dtype\": \"string\",\n        \"num_unique_values\": 2336,\n        \"samples\": [\n          \"Anker SOLIX Prime Day deals: This shopping guide highlights the best discounts\",\n          \"Pomerantz Law Firm Reminds Shareholders with Losses on their Investment in CVS Health Corporation of Class Action Lawsuit and Upcoming Deadlines - CVS\",\n          \"C\\u00f3nsul dominicano en NY desmiente publicaci\\u00f3n sobre visas\"\n        ],\n        \"semantic_type\": \"\",\n        \"description\": \"\"\n      }\n    },\n    {\n      \"column\": \"Description\",\n      \"properties\": {\n        \"dtype\": \"string\",\n        \"num_unique_values\": 2377,\n        \"samples\": [\n          \"A Soldier from the 18th Field Artillery Brigade receives treatment from the Holistic Health and Fitness team at Fort Liberty, NC. (U.S. Army photo by Jean Hines)\",\n          \"Tribune OnlineSenate passes Nigeria insurance industry reform bill for second readingThe Senate passed the Nigeria Insurance Industry Reform Bill, 2024 (SB 393) for Second Reading on Thursday. Sponsored by Senator Mukhail Adetokunbo Abiru, representing Lagos East, the Bill aims to establish a comprehensive legal framework for regulating and supervising all types of insurance businesses in Nigeria. Presenting his Lead Debate, Senator Abiru, who also chairs [&#8230;]Senate passes Nigeria insurance industry reform bill for second readingTribune Online\",\n          \"Die sozialen Medien zeigen ein klares Bild der Meinungen und Stimmungen zur Aktie von Huayi Tencent Entertainment. In den letzten Tagen wurden haupts\\u00e4chlich neutrale Themen diskutiert, ohne ausgepr\\u00e4gte positive oder negative Ausschl\\u00e4ge. Aus diesem Grund bewertet unsere Redaktion das Unternehmen als \\\"Neutral\\\". [mehr]\"\n        ],\n        \"semantic_type\": \"\",\n        \"description\": \"\"\n      }\n    },\n    {\n      \"column\": \"URL\",\n      \"properties\": {\n        \"dtype\": \"string\",\n        \"num_unique_values\": 2669,\n        \"samples\": [\n          \"https://calgary.ctvnews.ca/blue-green-algae-detected-in-southern-alberta-lake-ahs-1.6962439\",\n          \"https://www.paradisepost.com/2024/07/16/san-jose-sports-hall-of-fame-announces-class-of-2024/\",\n          \"https://awfulannouncing.com/nfl/andrew-perloff-bill-belichick-hypocrite-joining-sports-media.html\"\n        ],\n        \"semantic_type\": \"\",\n        \"description\": \"\"\n      }\n    },\n    {\n      \"column\": \"Published At\",\n      \"properties\": {\n        \"dtype\": \"object\",\n        \"num_unique_values\": 2196,\n        \"samples\": [\n          \"2024-07-12T20:57:00+00:00\",\n          \"2024-07-18T15:43:00+00:00\",\n          \"2024-07-12T01:52:46+00:00\"\n        ],\n        \"semantic_type\": \"\",\n        \"description\": \"\"\n      }\n    },\n    {\n      \"column\": \"Sentiment\",\n      \"properties\": {\n        \"dtype\": \"category\",\n        \"num_unique_values\": 3,\n        \"samples\": [\n          \"positive\",\n          \"neutral\",\n          \"negative\"\n        ],\n        \"semantic_type\": \"\",\n        \"description\": \"\"\n      }\n    },\n    {\n      \"column\": \"Type\",\n      \"properties\": {\n        \"dtype\": \"category\",\n        \"num_unique_values\": 7,\n        \"samples\": [\n          \"Business\",\n          \"Entertainment\",\n          \"Sports\"\n        ],\n        \"semantic_type\": \"\",\n        \"description\": \"\"\n      }\n    }\n  ]\n}",
              "type": "dataframe",
              "variable_name": "data"
            },
            "text/html": [
              "\n",
              "  <div id=\"df-14fccb99-88c9-47c8-bb4b-a173f1a1861a\" class=\"colab-df-container\">\n",
              "    <div>\n",
              "<style scoped>\n",
              "    .dataframe tbody tr th:only-of-type {\n",
              "        vertical-align: middle;\n",
              "    }\n",
              "\n",
              "    .dataframe tbody tr th {\n",
              "        vertical-align: top;\n",
              "    }\n",
              "\n",
              "    .dataframe thead th {\n",
              "        text-align: right;\n",
              "    }\n",
              "</style>\n",
              "<table border=\"1\" class=\"dataframe\">\n",
              "  <thead>\n",
              "    <tr style=\"text-align: right;\">\n",
              "      <th></th>\n",
              "      <th>Source</th>\n",
              "      <th>Author</th>\n",
              "      <th>Title</th>\n",
              "      <th>Description</th>\n",
              "      <th>URL</th>\n",
              "      <th>Published At</th>\n",
              "      <th>Sentiment</th>\n",
              "      <th>Type</th>\n",
              "    </tr>\n",
              "  </thead>\n",
              "  <tbody>\n",
              "    <tr>\n",
              "      <th>0</th>\n",
              "      <td>stgnews</td>\n",
              "      <td>Bridger Palmer</td>\n",
              "      <td>Pine View High teacher wins Best in State awar...</td>\n",
              "      <td>ST. GEORGE — Kaitlyn Larson, a first-year teac...</td>\n",
              "      <td>https://www.stgeorgeutah.com/news/archive/2024...</td>\n",
              "      <td>2024-07-12T23:45:25+00:00</td>\n",
              "      <td>positive</td>\n",
              "      <td>Business</td>\n",
              "    </tr>\n",
              "    <tr>\n",
              "      <th>1</th>\n",
              "      <td>Zimbabwe Mail</td>\n",
              "      <td>Staff Reporter</td>\n",
              "      <td>Businesses Face Financial Strain Amid Liquidit...</td>\n",
              "      <td>Harare, Zimbabwe – Local businesses are grappl...</td>\n",
              "      <td>https://www.thezimbabwemail.com/business/busin...</td>\n",
              "      <td>2024-07-12T22:59:42+00:00</td>\n",
              "      <td>neutral</td>\n",
              "      <td>Business</td>\n",
              "    </tr>\n",
              "    <tr>\n",
              "      <th>2</th>\n",
              "      <td>4-traders</td>\n",
              "      <td>NaN</td>\n",
              "      <td>Musk donates to super pac working to elect Tru...</td>\n",
              "      <td>(marketscreener.com) Billionaire Elon Musk has...</td>\n",
              "      <td>https://www.marketscreener.com/business-leader...</td>\n",
              "      <td>2024-07-12T22:52:55+00:00</td>\n",
              "      <td>positive</td>\n",
              "      <td>Business</td>\n",
              "    </tr>\n",
              "    <tr>\n",
              "      <th>3</th>\n",
              "      <td>4-traders</td>\n",
              "      <td>NaN</td>\n",
              "      <td>US FTC issues warning to franchisors over unfa...</td>\n",
              "      <td>(marketscreener.com) A U.S. trade regulator on...</td>\n",
              "      <td>https://www.marketscreener.com/quote/stock/MCD...</td>\n",
              "      <td>2024-07-12T22:41:01+00:00</td>\n",
              "      <td>negative</td>\n",
              "      <td>Business</td>\n",
              "    </tr>\n",
              "    <tr>\n",
              "      <th>4</th>\n",
              "      <td>PLANET</td>\n",
              "      <td>NaN</td>\n",
              "      <td>Rooftop solar's dark side</td>\n",
              "      <td>4.5 million households in the U.S. have solar ...</td>\n",
              "      <td>https://www.npr.org/2024/07/12/1197961036/roof...</td>\n",
              "      <td>2024-07-12T22:28:19+00:00</td>\n",
              "      <td>positive</td>\n",
              "      <td>Business</td>\n",
              "    </tr>\n",
              "  </tbody>\n",
              "</table>\n",
              "</div>\n",
              "    <div class=\"colab-df-buttons\">\n",
              "\n",
              "  <div class=\"colab-df-container\">\n",
              "    <button class=\"colab-df-convert\" onclick=\"convertToInteractive('df-14fccb99-88c9-47c8-bb4b-a173f1a1861a')\"\n",
              "            title=\"Convert this dataframe to an interactive table.\"\n",
              "            style=\"display:none;\">\n",
              "\n",
              "  <svg xmlns=\"http://www.w3.org/2000/svg\" height=\"24px\" viewBox=\"0 -960 960 960\">\n",
              "    <path d=\"M120-120v-720h720v720H120Zm60-500h600v-160H180v160Zm220 220h160v-160H400v160Zm0 220h160v-160H400v160ZM180-400h160v-160H180v160Zm440 0h160v-160H620v160ZM180-180h160v-160H180v160Zm440 0h160v-160H620v160Z\"/>\n",
              "  </svg>\n",
              "    </button>\n",
              "\n",
              "  <style>\n",
              "    .colab-df-container {\n",
              "      display:flex;\n",
              "      gap: 12px;\n",
              "    }\n",
              "\n",
              "    .colab-df-convert {\n",
              "      background-color: #E8F0FE;\n",
              "      border: none;\n",
              "      border-radius: 50%;\n",
              "      cursor: pointer;\n",
              "      display: none;\n",
              "      fill: #1967D2;\n",
              "      height: 32px;\n",
              "      padding: 0 0 0 0;\n",
              "      width: 32px;\n",
              "    }\n",
              "\n",
              "    .colab-df-convert:hover {\n",
              "      background-color: #E2EBFA;\n",
              "      box-shadow: 0px 1px 2px rgba(60, 64, 67, 0.3), 0px 1px 3px 1px rgba(60, 64, 67, 0.15);\n",
              "      fill: #174EA6;\n",
              "    }\n",
              "\n",
              "    .colab-df-buttons div {\n",
              "      margin-bottom: 4px;\n",
              "    }\n",
              "\n",
              "    [theme=dark] .colab-df-convert {\n",
              "      background-color: #3B4455;\n",
              "      fill: #D2E3FC;\n",
              "    }\n",
              "\n",
              "    [theme=dark] .colab-df-convert:hover {\n",
              "      background-color: #434B5C;\n",
              "      box-shadow: 0px 1px 3px 1px rgba(0, 0, 0, 0.15);\n",
              "      filter: drop-shadow(0px 1px 2px rgba(0, 0, 0, 0.3));\n",
              "      fill: #FFFFFF;\n",
              "    }\n",
              "  </style>\n",
              "\n",
              "    <script>\n",
              "      const buttonEl =\n",
              "        document.querySelector('#df-14fccb99-88c9-47c8-bb4b-a173f1a1861a button.colab-df-convert');\n",
              "      buttonEl.style.display =\n",
              "        google.colab.kernel.accessAllowed ? 'block' : 'none';\n",
              "\n",
              "      async function convertToInteractive(key) {\n",
              "        const element = document.querySelector('#df-14fccb99-88c9-47c8-bb4b-a173f1a1861a');\n",
              "        const dataTable =\n",
              "          await google.colab.kernel.invokeFunction('convertToInteractive',\n",
              "                                                    [key], {});\n",
              "        if (!dataTable) return;\n",
              "\n",
              "        const docLinkHtml = 'Like what you see? Visit the ' +\n",
              "          '<a target=\"_blank\" href=https://colab.research.google.com/notebooks/data_table.ipynb>data table notebook</a>'\n",
              "          + ' to learn more about interactive tables.';\n",
              "        element.innerHTML = '';\n",
              "        dataTable['output_type'] = 'display_data';\n",
              "        await google.colab.output.renderOutput(dataTable, element);\n",
              "        const docLink = document.createElement('div');\n",
              "        docLink.innerHTML = docLinkHtml;\n",
              "        element.appendChild(docLink);\n",
              "      }\n",
              "    </script>\n",
              "  </div>\n",
              "\n",
              "\n",
              "<div id=\"df-c745909c-aa55-4e3f-90a7-de9fff78c65b\">\n",
              "  <button class=\"colab-df-quickchart\" onclick=\"quickchart('df-c745909c-aa55-4e3f-90a7-de9fff78c65b')\"\n",
              "            title=\"Suggest charts\"\n",
              "            style=\"display:none;\">\n",
              "\n",
              "<svg xmlns=\"http://www.w3.org/2000/svg\" height=\"24px\"viewBox=\"0 0 24 24\"\n",
              "     width=\"24px\">\n",
              "    <g>\n",
              "        <path d=\"M19 3H5c-1.1 0-2 .9-2 2v14c0 1.1.9 2 2 2h14c1.1 0 2-.9 2-2V5c0-1.1-.9-2-2-2zM9 17H7v-7h2v7zm4 0h-2V7h2v10zm4 0h-2v-4h2v4z\"/>\n",
              "    </g>\n",
              "</svg>\n",
              "  </button>\n",
              "\n",
              "<style>\n",
              "  .colab-df-quickchart {\n",
              "      --bg-color: #E8F0FE;\n",
              "      --fill-color: #1967D2;\n",
              "      --hover-bg-color: #E2EBFA;\n",
              "      --hover-fill-color: #174EA6;\n",
              "      --disabled-fill-color: #AAA;\n",
              "      --disabled-bg-color: #DDD;\n",
              "  }\n",
              "\n",
              "  [theme=dark] .colab-df-quickchart {\n",
              "      --bg-color: #3B4455;\n",
              "      --fill-color: #D2E3FC;\n",
              "      --hover-bg-color: #434B5C;\n",
              "      --hover-fill-color: #FFFFFF;\n",
              "      --disabled-bg-color: #3B4455;\n",
              "      --disabled-fill-color: #666;\n",
              "  }\n",
              "\n",
              "  .colab-df-quickchart {\n",
              "    background-color: var(--bg-color);\n",
              "    border: none;\n",
              "    border-radius: 50%;\n",
              "    cursor: pointer;\n",
              "    display: none;\n",
              "    fill: var(--fill-color);\n",
              "    height: 32px;\n",
              "    padding: 0;\n",
              "    width: 32px;\n",
              "  }\n",
              "\n",
              "  .colab-df-quickchart:hover {\n",
              "    background-color: var(--hover-bg-color);\n",
              "    box-shadow: 0 1px 2px rgba(60, 64, 67, 0.3), 0 1px 3px 1px rgba(60, 64, 67, 0.15);\n",
              "    fill: var(--button-hover-fill-color);\n",
              "  }\n",
              "\n",
              "  .colab-df-quickchart-complete:disabled,\n",
              "  .colab-df-quickchart-complete:disabled:hover {\n",
              "    background-color: var(--disabled-bg-color);\n",
              "    fill: var(--disabled-fill-color);\n",
              "    box-shadow: none;\n",
              "  }\n",
              "\n",
              "  .colab-df-spinner {\n",
              "    border: 2px solid var(--fill-color);\n",
              "    border-color: transparent;\n",
              "    border-bottom-color: var(--fill-color);\n",
              "    animation:\n",
              "      spin 1s steps(1) infinite;\n",
              "  }\n",
              "\n",
              "  @keyframes spin {\n",
              "    0% {\n",
              "      border-color: transparent;\n",
              "      border-bottom-color: var(--fill-color);\n",
              "      border-left-color: var(--fill-color);\n",
              "    }\n",
              "    20% {\n",
              "      border-color: transparent;\n",
              "      border-left-color: var(--fill-color);\n",
              "      border-top-color: var(--fill-color);\n",
              "    }\n",
              "    30% {\n",
              "      border-color: transparent;\n",
              "      border-left-color: var(--fill-color);\n",
              "      border-top-color: var(--fill-color);\n",
              "      border-right-color: var(--fill-color);\n",
              "    }\n",
              "    40% {\n",
              "      border-color: transparent;\n",
              "      border-right-color: var(--fill-color);\n",
              "      border-top-color: var(--fill-color);\n",
              "    }\n",
              "    60% {\n",
              "      border-color: transparent;\n",
              "      border-right-color: var(--fill-color);\n",
              "    }\n",
              "    80% {\n",
              "      border-color: transparent;\n",
              "      border-right-color: var(--fill-color);\n",
              "      border-bottom-color: var(--fill-color);\n",
              "    }\n",
              "    90% {\n",
              "      border-color: transparent;\n",
              "      border-bottom-color: var(--fill-color);\n",
              "    }\n",
              "  }\n",
              "</style>\n",
              "\n",
              "  <script>\n",
              "    async function quickchart(key) {\n",
              "      const quickchartButtonEl =\n",
              "        document.querySelector('#' + key + ' button');\n",
              "      quickchartButtonEl.disabled = true;  // To prevent multiple clicks.\n",
              "      quickchartButtonEl.classList.add('colab-df-spinner');\n",
              "      try {\n",
              "        const charts = await google.colab.kernel.invokeFunction(\n",
              "            'suggestCharts', [key], {});\n",
              "      } catch (error) {\n",
              "        console.error('Error during call to suggestCharts:', error);\n",
              "      }\n",
              "      quickchartButtonEl.classList.remove('colab-df-spinner');\n",
              "      quickchartButtonEl.classList.add('colab-df-quickchart-complete');\n",
              "    }\n",
              "    (() => {\n",
              "      let quickchartButtonEl =\n",
              "        document.querySelector('#df-c745909c-aa55-4e3f-90a7-de9fff78c65b button');\n",
              "      quickchartButtonEl.style.display =\n",
              "        google.colab.kernel.accessAllowed ? 'block' : 'none';\n",
              "    })();\n",
              "  </script>\n",
              "</div>\n",
              "\n",
              "    </div>\n",
              "  </div>\n"
            ],
            "text/plain": [
              "          Source          Author  \\\n",
              "0        stgnews  Bridger Palmer   \n",
              "1  Zimbabwe Mail  Staff Reporter   \n",
              "2      4-traders             NaN   \n",
              "3      4-traders             NaN   \n",
              "4         PLANET             NaN   \n",
              "\n",
              "                                               Title  \\\n",
              "0  Pine View High teacher wins Best in State awar...   \n",
              "1  Businesses Face Financial Strain Amid Liquidit...   \n",
              "2  Musk donates to super pac working to elect Tru...   \n",
              "3  US FTC issues warning to franchisors over unfa...   \n",
              "4                          Rooftop solar's dark side   \n",
              "\n",
              "                                         Description  \\\n",
              "0  ST. GEORGE — Kaitlyn Larson, a first-year teac...   \n",
              "1  Harare, Zimbabwe – Local businesses are grappl...   \n",
              "2  (marketscreener.com) Billionaire Elon Musk has...   \n",
              "3  (marketscreener.com) A U.S. trade regulator on...   \n",
              "4  4.5 million households in the U.S. have solar ...   \n",
              "\n",
              "                                                 URL  \\\n",
              "0  https://www.stgeorgeutah.com/news/archive/2024...   \n",
              "1  https://www.thezimbabwemail.com/business/busin...   \n",
              "2  https://www.marketscreener.com/business-leader...   \n",
              "3  https://www.marketscreener.com/quote/stock/MCD...   \n",
              "4  https://www.npr.org/2024/07/12/1197961036/roof...   \n",
              "\n",
              "                Published At Sentiment      Type  \n",
              "0  2024-07-12T23:45:25+00:00  positive  Business  \n",
              "1  2024-07-12T22:59:42+00:00   neutral  Business  \n",
              "2  2024-07-12T22:52:55+00:00  positive  Business  \n",
              "3  2024-07-12T22:41:01+00:00  negative  Business  \n",
              "4  2024-07-12T22:28:19+00:00  positive  Business  "
            ]
          },
          "execution_count": 4,
          "metadata": {},
          "output_type": "execute_result"
        }
      ],
      "source": [
        "file_path = 'news_sentiment_analysis.csv'\n",
        "data = pd.read_csv(file_path)\n",
        "\n",
        "# Display the first few rows and summary of the dataset\n",
        "data.head()"
      ]
    },
    {
      "cell_type": "code",
      "execution_count": 5,
      "id": "0465b691",
      "metadata": {
        "colab": {
          "base_uri": "https://localhost:8080/"
        },
        "execution": {
          "iopub.execute_input": "2024-07-21T04:46:54.751448Z",
          "iopub.status.busy": "2024-07-21T04:46:54.751016Z",
          "iopub.status.idle": "2024-07-21T04:46:54.775929Z",
          "shell.execute_reply": "2024-07-21T04:46:54.774854Z"
        },
        "id": "0465b691",
        "outputId": "eef7a7fa-2173-4755-9b58-3dd1d837bf4f",
        "papermill": {
          "duration": 0.035358,
          "end_time": "2024-07-21T04:46:54.778849",
          "exception": false,
          "start_time": "2024-07-21T04:46:54.743491",
          "status": "completed"
        },
        "tags": []
      },
      "outputs": [
        {
          "name": "stdout",
          "output_type": "stream",
          "text": [
            "<class 'pandas.core.frame.DataFrame'>\n",
            "RangeIndex: 3500 entries, 0 to 3499\n",
            "Data columns (total 8 columns):\n",
            " #   Column        Non-Null Count  Dtype \n",
            "---  ------        --------------  ----- \n",
            " 0   Source        3500 non-null   object\n",
            " 1   Author        2512 non-null   object\n",
            " 2   Title         3500 non-null   object\n",
            " 3   Description   3500 non-null   object\n",
            " 4   URL           3500 non-null   object\n",
            " 5   Published At  3500 non-null   object\n",
            " 6   Sentiment     3500 non-null   object\n",
            " 7   Type          3500 non-null   object\n",
            "dtypes: object(8)\n",
            "memory usage: 218.9+ KB\n"
          ]
        }
      ],
      "source": [
        "data.info()"
      ]
    },
    {
      "cell_type": "code",
      "execution_count": 6,
      "id": "xWGlXW8wgTkt",
      "metadata": {
        "colab": {
          "base_uri": "https://localhost:8080/",
          "height": 335
        },
        "id": "xWGlXW8wgTkt",
        "outputId": "43c7e1b6-7658-421f-9977-a266d7d2a85b"
      },
      "outputs": [
        {
          "data": {
            "text/html": [
              "<div>\n",
              "<style scoped>\n",
              "    .dataframe tbody tr th:only-of-type {\n",
              "        vertical-align: middle;\n",
              "    }\n",
              "\n",
              "    .dataframe tbody tr th {\n",
              "        vertical-align: top;\n",
              "    }\n",
              "\n",
              "    .dataframe thead th {\n",
              "        text-align: right;\n",
              "    }\n",
              "</style>\n",
              "<table border=\"1\" class=\"dataframe\">\n",
              "  <thead>\n",
              "    <tr style=\"text-align: right;\">\n",
              "      <th></th>\n",
              "      <th>count</th>\n",
              "    </tr>\n",
              "    <tr>\n",
              "      <th>Type</th>\n",
              "      <th></th>\n",
              "    </tr>\n",
              "  </thead>\n",
              "  <tbody>\n",
              "    <tr>\n",
              "      <th>Business</th>\n",
              "      <td>500</td>\n",
              "    </tr>\n",
              "    <tr>\n",
              "      <th>Entertainment</th>\n",
              "      <td>500</td>\n",
              "    </tr>\n",
              "    <tr>\n",
              "      <th>General</th>\n",
              "      <td>500</td>\n",
              "    </tr>\n",
              "    <tr>\n",
              "      <th>Health</th>\n",
              "      <td>500</td>\n",
              "    </tr>\n",
              "    <tr>\n",
              "      <th>Science</th>\n",
              "      <td>500</td>\n",
              "    </tr>\n",
              "    <tr>\n",
              "      <th>Sports</th>\n",
              "      <td>500</td>\n",
              "    </tr>\n",
              "    <tr>\n",
              "      <th>Technology</th>\n",
              "      <td>500</td>\n",
              "    </tr>\n",
              "  </tbody>\n",
              "</table>\n",
              "</div><br><label><b>dtype:</b> int64</label>"
            ],
            "text/plain": [
              "Type\n",
              "Business         500\n",
              "Entertainment    500\n",
              "General          500\n",
              "Health           500\n",
              "Science          500\n",
              "Sports           500\n",
              "Technology       500\n",
              "Name: count, dtype: int64"
            ]
          },
          "execution_count": 6,
          "metadata": {},
          "output_type": "execute_result"
        }
      ],
      "source": [
        "data['Type'].value_counts()"
      ]
    },
    {
      "cell_type": "code",
      "execution_count": 7,
      "id": "8111c4e2",
      "metadata": {
        "execution": {
          "iopub.execute_input": "2024-07-21T04:46:54.794115Z",
          "iopub.status.busy": "2024-07-21T04:46:54.793721Z",
          "iopub.status.idle": "2024-07-21T04:46:54.799999Z",
          "shell.execute_reply": "2024-07-21T04:46:54.798779Z"
        },
        "id": "8111c4e2",
        "papermill": {
          "duration": 0.017013,
          "end_time": "2024-07-21T04:46:54.802720",
          "exception": false,
          "start_time": "2024-07-21T04:46:54.785707",
          "status": "completed"
        },
        "tags": []
      },
      "outputs": [],
      "source": [
        "data['Description'] = data['Description'].astype(str)\n",
        "texts = data['Description']\n",
        "labels = data['Sentiment']"
      ]
    },
    {
      "cell_type": "code",
      "execution_count": 8,
      "id": "9c3bbf6b",
      "metadata": {
        "execution": {
          "iopub.execute_input": "2024-07-21T04:46:54.817595Z",
          "iopub.status.busy": "2024-07-21T04:46:54.817013Z",
          "iopub.status.idle": "2024-07-21T04:46:55.059173Z",
          "shell.execute_reply": "2024-07-21T04:46:55.058010Z"
        },
        "id": "9c3bbf6b",
        "papermill": {
          "duration": 0.252627,
          "end_time": "2024-07-21T04:46:55.061882",
          "exception": false,
          "start_time": "2024-07-21T04:46:54.809255",
          "status": "completed"
        },
        "tags": []
      },
      "outputs": [],
      "source": [
        "from sklearn.preprocessing import LabelEncoder\n",
        "\n",
        "label_encoder = LabelEncoder()\n",
        "encoded_labels = label_encoder.fit_transform(labels)"
      ]
    },
    {
      "cell_type": "code",
      "execution_count": 9,
      "id": "6a9fc5dd",
      "metadata": {
        "colab": {
          "base_uri": "https://localhost:8080/"
        },
        "execution": {
          "iopub.execute_input": "2024-07-21T04:46:55.076548Z",
          "iopub.status.busy": "2024-07-21T04:46:55.076122Z",
          "iopub.status.idle": "2024-07-21T04:46:55.083481Z",
          "shell.execute_reply": "2024-07-21T04:46:55.082466Z"
        },
        "id": "6a9fc5dd",
        "outputId": "dea3e0c2-e156-4ee9-9df1-2784e7700d53",
        "papermill": {
          "duration": 0.017402,
          "end_time": "2024-07-21T04:46:55.085825",
          "exception": false,
          "start_time": "2024-07-21T04:46:55.068423",
          "status": "completed"
        },
        "tags": []
      },
      "outputs": [
        {
          "data": {
            "text/plain": [
              "array([2, 1, 2, ..., 2, 1, 2])"
            ]
          },
          "execution_count": 9,
          "metadata": {},
          "output_type": "execute_result"
        }
      ],
      "source": [
        "encoded_labels"
      ]
    },
    {
      "cell_type": "code",
      "execution_count": 10,
      "id": "1d908982",
      "metadata": {
        "execution": {
          "iopub.execute_input": "2024-07-21T04:46:55.100861Z",
          "iopub.status.busy": "2024-07-21T04:46:55.100254Z",
          "iopub.status.idle": "2024-07-21T04:46:55.212472Z",
          "shell.execute_reply": "2024-07-21T04:46:55.211329Z"
        },
        "id": "1d908982",
        "papermill": {
          "duration": 0.12305,
          "end_time": "2024-07-21T04:46:55.215421",
          "exception": false,
          "start_time": "2024-07-21T04:46:55.092371",
          "status": "completed"
        },
        "tags": []
      },
      "outputs": [],
      "source": [
        "from sklearn.model_selection import train_test_split\n",
        "\n",
        "X_train, X_test, y_train, y_test = train_test_split(texts, encoded_labels, test_size=0.2, random_state=42, stratify=encoded_labels)"
      ]
    },
    {
      "cell_type": "code",
      "execution_count": 11,
      "id": "be2c3f1a",
      "metadata": {
        "execution": {
          "iopub.execute_input": "2024-07-21T04:46:55.230388Z",
          "iopub.status.busy": "2024-07-21T04:46:55.229962Z",
          "iopub.status.idle": "2024-07-21T04:46:55.248528Z",
          "shell.execute_reply": "2024-07-21T04:46:55.247496Z"
        },
        "id": "be2c3f1a",
        "papermill": {
          "duration": 0.029022,
          "end_time": "2024-07-21T04:46:55.251149",
          "exception": false,
          "start_time": "2024-07-21T04:46:55.222127",
          "status": "completed"
        },
        "tags": []
      },
      "outputs": [],
      "source": [
        "from sklearn.feature_extraction.text import TfidfVectorizer\n",
        "\n",
        "vectorizer = TfidfVectorizer(max_features=1000, stop_words='english')"
      ]
    },
    {
      "cell_type": "code",
      "execution_count": 12,
      "id": "a76fdbcc",
      "metadata": {
        "execution": {
          "iopub.execute_input": "2024-07-21T04:46:55.266097Z",
          "iopub.status.busy": "2024-07-21T04:46:55.265704Z",
          "iopub.status.idle": "2024-07-21T04:46:55.508526Z",
          "shell.execute_reply": "2024-07-21T04:46:55.507194Z"
        },
        "id": "a76fdbcc",
        "papermill": {
          "duration": 0.253244,
          "end_time": "2024-07-21T04:46:55.511235",
          "exception": false,
          "start_time": "2024-07-21T04:46:55.257991",
          "status": "completed"
        },
        "tags": []
      },
      "outputs": [],
      "source": [
        "X_train_tfidf  = vectorizer.fit_transform(X_train)\n",
        "X_test_tfidf  = vectorizer.transform(X_test.astype(str))"
      ]
    },
    {
      "cell_type": "code",
      "execution_count": 13,
      "id": "7919531b",
      "metadata": {
        "execution": {
          "iopub.execute_input": "2024-07-21T04:46:55.526179Z",
          "iopub.status.busy": "2024-07-21T04:46:55.525767Z",
          "iopub.status.idle": "2024-07-21T04:46:55.781420Z",
          "shell.execute_reply": "2024-07-21T04:46:55.780365Z"
        },
        "id": "7919531b",
        "papermill": {
          "duration": 0.266122,
          "end_time": "2024-07-21T04:46:55.783984",
          "exception": false,
          "start_time": "2024-07-21T04:46:55.517862",
          "status": "completed"
        },
        "tags": []
      },
      "outputs": [],
      "source": [
        "from sklearn.ensemble import RandomForestClassifier\n",
        "\n",
        "model_forest = RandomForestClassifier(n_estimators=100, random_state=42)"
      ]
    },
    {
      "cell_type": "code",
      "execution_count": 14,
      "id": "ad8f36d1",
      "metadata": {
        "colab": {
          "base_uri": "https://localhost:8080/",
          "height": 75
        },
        "execution": {
          "iopub.execute_input": "2024-07-21T04:46:55.799355Z",
          "iopub.status.busy": "2024-07-21T04:46:55.798927Z",
          "iopub.status.idle": "2024-07-21T04:46:57.243660Z",
          "shell.execute_reply": "2024-07-21T04:46:57.242483Z"
        },
        "id": "ad8f36d1",
        "outputId": "39ba54a7-7642-4913-8df4-c17fa28abb4a",
        "papermill": {
          "duration": 1.455286,
          "end_time": "2024-07-21T04:46:57.246008",
          "exception": false,
          "start_time": "2024-07-21T04:46:55.790722",
          "status": "completed"
        },
        "tags": []
      },
      "outputs": [
        {
          "data": {
            "text/html": [
              "<style>#sk-container-id-1 {color: black;}#sk-container-id-1 pre{padding: 0;}#sk-container-id-1 div.sk-toggleable {background-color: white;}#sk-container-id-1 label.sk-toggleable__label {cursor: pointer;display: block;width: 100%;margin-bottom: 0;padding: 0.3em;box-sizing: border-box;text-align: center;}#sk-container-id-1 label.sk-toggleable__label-arrow:before {content: \"▸\";float: left;margin-right: 0.25em;color: #696969;}#sk-container-id-1 label.sk-toggleable__label-arrow:hover:before {color: black;}#sk-container-id-1 div.sk-estimator:hover label.sk-toggleable__label-arrow:before {color: black;}#sk-container-id-1 div.sk-toggleable__content {max-height: 0;max-width: 0;overflow: hidden;text-align: left;background-color: #f0f8ff;}#sk-container-id-1 div.sk-toggleable__content pre {margin: 0.2em;color: black;border-radius: 0.25em;background-color: #f0f8ff;}#sk-container-id-1 input.sk-toggleable__control:checked~div.sk-toggleable__content {max-height: 200px;max-width: 100%;overflow: auto;}#sk-container-id-1 input.sk-toggleable__control:checked~label.sk-toggleable__label-arrow:before {content: \"▾\";}#sk-container-id-1 div.sk-estimator input.sk-toggleable__control:checked~label.sk-toggleable__label {background-color: #d4ebff;}#sk-container-id-1 div.sk-label input.sk-toggleable__control:checked~label.sk-toggleable__label {background-color: #d4ebff;}#sk-container-id-1 input.sk-hidden--visually {border: 0;clip: rect(1px 1px 1px 1px);clip: rect(1px, 1px, 1px, 1px);height: 1px;margin: -1px;overflow: hidden;padding: 0;position: absolute;width: 1px;}#sk-container-id-1 div.sk-estimator {font-family: monospace;background-color: #f0f8ff;border: 1px dotted black;border-radius: 0.25em;box-sizing: border-box;margin-bottom: 0.5em;}#sk-container-id-1 div.sk-estimator:hover {background-color: #d4ebff;}#sk-container-id-1 div.sk-parallel-item::after {content: \"\";width: 100%;border-bottom: 1px solid gray;flex-grow: 1;}#sk-container-id-1 div.sk-label:hover label.sk-toggleable__label {background-color: #d4ebff;}#sk-container-id-1 div.sk-serial::before {content: \"\";position: absolute;border-left: 1px solid gray;box-sizing: border-box;top: 0;bottom: 0;left: 50%;z-index: 0;}#sk-container-id-1 div.sk-serial {display: flex;flex-direction: column;align-items: center;background-color: white;padding-right: 0.2em;padding-left: 0.2em;position: relative;}#sk-container-id-1 div.sk-item {position: relative;z-index: 1;}#sk-container-id-1 div.sk-parallel {display: flex;align-items: stretch;justify-content: center;background-color: white;position: relative;}#sk-container-id-1 div.sk-item::before, #sk-container-id-1 div.sk-parallel-item::before {content: \"\";position: absolute;border-left: 1px solid gray;box-sizing: border-box;top: 0;bottom: 0;left: 50%;z-index: -1;}#sk-container-id-1 div.sk-parallel-item {display: flex;flex-direction: column;z-index: 1;position: relative;background-color: white;}#sk-container-id-1 div.sk-parallel-item:first-child::after {align-self: flex-end;width: 50%;}#sk-container-id-1 div.sk-parallel-item:last-child::after {align-self: flex-start;width: 50%;}#sk-container-id-1 div.sk-parallel-item:only-child::after {width: 0;}#sk-container-id-1 div.sk-dashed-wrapped {border: 1px dashed gray;margin: 0 0.4em 0.5em 0.4em;box-sizing: border-box;padding-bottom: 0.4em;background-color: white;}#sk-container-id-1 div.sk-label label {font-family: monospace;font-weight: bold;display: inline-block;line-height: 1.2em;}#sk-container-id-1 div.sk-label-container {text-align: center;}#sk-container-id-1 div.sk-container {/* jupyter's `normalize.less` sets `[hidden] { display: none; }` but bootstrap.min.css set `[hidden] { display: none !important; }` so we also need the `!important` here to be able to override the default hidden behavior on the sphinx rendered scikit-learn.org. See: https://github.com/scikit-learn/scikit-learn/issues/21755 */display: inline-block !important;position: relative;}#sk-container-id-1 div.sk-text-repr-fallback {display: none;}</style><div id=\"sk-container-id-1\" class=\"sk-top-container\"><div class=\"sk-text-repr-fallback\"><pre>RandomForestClassifier(random_state=42)</pre><b>In a Jupyter environment, please rerun this cell to show the HTML representation or trust the notebook. <br />On GitHub, the HTML representation is unable to render, please try loading this page with nbviewer.org.</b></div><div class=\"sk-container\" hidden><div class=\"sk-item\"><div class=\"sk-estimator sk-toggleable\"><input class=\"sk-toggleable__control sk-hidden--visually\" id=\"sk-estimator-id-1\" type=\"checkbox\" checked><label for=\"sk-estimator-id-1\" class=\"sk-toggleable__label sk-toggleable__label-arrow\">RandomForestClassifier</label><div class=\"sk-toggleable__content\"><pre>RandomForestClassifier(random_state=42)</pre></div></div></div></div></div>"
            ],
            "text/plain": [
              "RandomForestClassifier(random_state=42)"
            ]
          },
          "execution_count": 14,
          "metadata": {},
          "output_type": "execute_result"
        }
      ],
      "source": [
        "model_forest.fit(X_train_tfidf, y_train)"
      ]
    },
    {
      "cell_type": "code",
      "execution_count": 15,
      "id": "7756bff6",
      "metadata": {
        "execution": {
          "iopub.execute_input": "2024-07-21T04:46:57.261085Z",
          "iopub.status.busy": "2024-07-21T04:46:57.260707Z",
          "iopub.status.idle": "2024-07-21T04:46:57.297195Z",
          "shell.execute_reply": "2024-07-21T04:46:57.295854Z"
        },
        "id": "7756bff6",
        "papermill": {
          "duration": 0.047533,
          "end_time": "2024-07-21T04:46:57.300241",
          "exception": false,
          "start_time": "2024-07-21T04:46:57.252708",
          "status": "completed"
        },
        "tags": []
      },
      "outputs": [],
      "source": [
        "y_pred_forest = model_forest.predict(X_test_tfidf)"
      ]
    },
    {
      "cell_type": "code",
      "execution_count": 16,
      "id": "5580e862",
      "metadata": {
        "execution": {
          "iopub.execute_input": "2024-07-21T04:46:57.316071Z",
          "iopub.status.busy": "2024-07-21T04:46:57.315671Z",
          "iopub.status.idle": "2024-07-21T04:46:57.321080Z",
          "shell.execute_reply": "2024-07-21T04:46:57.319944Z"
        },
        "id": "5580e862",
        "papermill": {
          "duration": 0.016423,
          "end_time": "2024-07-21T04:46:57.323437",
          "exception": false,
          "start_time": "2024-07-21T04:46:57.307014",
          "status": "completed"
        },
        "tags": []
      },
      "outputs": [],
      "source": [
        "from sklearn.metrics import classification_report, accuracy_score"
      ]
    },
    {
      "cell_type": "code",
      "execution_count": 17,
      "id": "83fd53ad",
      "metadata": {
        "execution": {
          "iopub.execute_input": "2024-07-21T04:46:57.338832Z",
          "iopub.status.busy": "2024-07-21T04:46:57.338173Z",
          "iopub.status.idle": "2024-07-21T04:46:57.344195Z",
          "shell.execute_reply": "2024-07-21T04:46:57.343178Z"
        },
        "id": "83fd53ad",
        "papermill": {
          "duration": 0.01634,
          "end_time": "2024-07-21T04:46:57.346565",
          "exception": false,
          "start_time": "2024-07-21T04:46:57.330225",
          "status": "completed"
        },
        "tags": []
      },
      "outputs": [],
      "source": [
        "accuracy_Forest = accuracy_score(y_test, y_pred_forest)"
      ]
    },
    {
      "cell_type": "code",
      "execution_count": 18,
      "id": "9146ec8b",
      "metadata": {
        "execution": {
          "iopub.execute_input": "2024-07-21T04:46:57.362058Z",
          "iopub.status.busy": "2024-07-21T04:46:57.361233Z",
          "iopub.status.idle": "2024-07-21T04:46:57.376300Z",
          "shell.execute_reply": "2024-07-21T04:46:57.375126Z"
        },
        "id": "9146ec8b",
        "papermill": {
          "duration": 0.025854,
          "end_time": "2024-07-21T04:46:57.378995",
          "exception": false,
          "start_time": "2024-07-21T04:46:57.353141",
          "status": "completed"
        },
        "tags": []
      },
      "outputs": [],
      "source": [
        "report_Forest = classification_report(y_test, y_pred_forest, target_names=label_encoder.classes_)"
      ]
    },
    {
      "cell_type": "code",
      "execution_count": 19,
      "id": "469858cf",
      "metadata": {
        "colab": {
          "base_uri": "https://localhost:8080/"
        },
        "execution": {
          "iopub.execute_input": "2024-07-21T04:46:57.394918Z",
          "iopub.status.busy": "2024-07-21T04:46:57.394055Z",
          "iopub.status.idle": "2024-07-21T04:46:57.399997Z",
          "shell.execute_reply": "2024-07-21T04:46:57.398949Z"
        },
        "id": "469858cf",
        "outputId": "acf2e7d6-47dc-4994-cae9-f4e9a3fd148d",
        "papermill": {
          "duration": 0.016696,
          "end_time": "2024-07-21T04:46:57.402693",
          "exception": false,
          "start_time": "2024-07-21T04:46:57.385997",
          "status": "completed"
        },
        "tags": []
      },
      "outputs": [
        {
          "name": "stdout",
          "output_type": "stream",
          "text": [
            "Accuracy: 0.8642857142857143\n",
            "Classification Report:\n",
            "              precision    recall  f1-score   support\n",
            "\n",
            "    negative       0.85      0.61      0.71       115\n",
            "     neutral       0.82      0.85      0.83       158\n",
            "    positive       0.88      0.94      0.91       427\n",
            "\n",
            "    accuracy                           0.86       700\n",
            "   macro avg       0.85      0.80      0.82       700\n",
            "weighted avg       0.86      0.86      0.86       700\n",
            "\n"
          ]
        }
      ],
      "source": [
        "print(f'Accuracy: {accuracy_Forest}')\n",
        "print('Classification Report:')\n",
        "print(report_Forest)"
      ]
    },
    {
      "cell_type": "code",
      "execution_count": 20,
      "id": "62c2fa78",
      "metadata": {
        "execution": {
          "iopub.execute_input": "2024-07-21T04:46:57.417805Z",
          "iopub.status.busy": "2024-07-21T04:46:57.417398Z",
          "iopub.status.idle": "2024-07-21T04:46:57.424245Z",
          "shell.execute_reply": "2024-07-21T04:46:57.422868Z"
        },
        "id": "62c2fa78",
        "papermill": {
          "duration": 0.017146,
          "end_time": "2024-07-21T04:46:57.426669",
          "exception": false,
          "start_time": "2024-07-21T04:46:57.409523",
          "status": "completed"
        },
        "tags": []
      },
      "outputs": [],
      "source": [
        "n_estimators = [100, 200, 300, 400, 500]\n",
        "max_depth = [None, 10, 20, 30, 40, 50]\n",
        "min_samples_split = [2, 5, 10]\n",
        "min_samples_leaf = [1, 2, 4]\n",
        "max_features = ['sqrt', 'log2']\n",
        "bootstrap = [True, False]\n",
        "\n",
        "hyperparameter_grid = {\n",
        "    'n_estimators': n_estimators,\n",
        "    'max_depth': max_depth,\n",
        "    'min_samples_split': min_samples_split,\n",
        "    'min_samples_leaf': min_samples_leaf,\n",
        "    'max_features': max_features,\n",
        "    'bootstrap': bootstrap\n",
        "}"
      ]
    },
    {
      "cell_type": "code",
      "execution_count": 21,
      "id": "4c6527e9",
      "metadata": {
        "execution": {
          "iopub.execute_input": "2024-07-21T04:46:57.442750Z",
          "iopub.status.busy": "2024-07-21T04:46:57.442355Z",
          "iopub.status.idle": "2024-07-21T04:46:57.448499Z",
          "shell.execute_reply": "2024-07-21T04:46:57.447118Z"
        },
        "id": "4c6527e9",
        "papermill": {
          "duration": 0.017025,
          "end_time": "2024-07-21T04:46:57.450701",
          "exception": false,
          "start_time": "2024-07-21T04:46:57.433676",
          "status": "completed"
        },
        "tags": []
      },
      "outputs": [],
      "source": [
        "from sklearn.model_selection import RandomizedSearchCV\n",
        "random_cv = RandomizedSearchCV(estimator=model_forest,\n",
        "                               param_distributions=hyperparameter_grid,\n",
        "                               cv=5,\n",
        "                               n_iter=50,\n",
        "                               scoring='accuracy',  # use accuracy for classification\n",
        "                               n_jobs=-1,\n",
        "                               verbose=5,\n",
        "                               return_train_score=True,\n",
        "                               random_state=42)"
      ]
    },
    {
      "cell_type": "code",
      "execution_count": 22,
      "id": "c2f579af",
      "metadata": {
        "colab": {
          "base_uri": "https://localhost:8080/",
          "height": 135
        },
        "execution": {
          "iopub.execute_input": "2024-07-21T04:46:57.465826Z",
          "iopub.status.busy": "2024-07-21T04:46:57.465434Z",
          "iopub.status.idle": "2024-07-21T04:49:48.573721Z",
          "shell.execute_reply": "2024-07-21T04:49:48.572359Z"
        },
        "id": "c2f579af",
        "outputId": "8fdbba68-a8e3-4d26-8841-bb44dc057fbe",
        "papermill": {
          "duration": 171.12654,
          "end_time": "2024-07-21T04:49:48.584032",
          "exception": false,
          "start_time": "2024-07-21T04:46:57.457492",
          "status": "completed"
        },
        "tags": []
      },
      "outputs": [
        {
          "name": "stdout",
          "output_type": "stream",
          "text": [
            "Fitting 5 folds for each of 50 candidates, totalling 250 fits\n"
          ]
        },
        {
          "data": {
            "text/html": [
              "<style>#sk-container-id-2 {color: black;}#sk-container-id-2 pre{padding: 0;}#sk-container-id-2 div.sk-toggleable {background-color: white;}#sk-container-id-2 label.sk-toggleable__label {cursor: pointer;display: block;width: 100%;margin-bottom: 0;padding: 0.3em;box-sizing: border-box;text-align: center;}#sk-container-id-2 label.sk-toggleable__label-arrow:before {content: \"▸\";float: left;margin-right: 0.25em;color: #696969;}#sk-container-id-2 label.sk-toggleable__label-arrow:hover:before {color: black;}#sk-container-id-2 div.sk-estimator:hover label.sk-toggleable__label-arrow:before {color: black;}#sk-container-id-2 div.sk-toggleable__content {max-height: 0;max-width: 0;overflow: hidden;text-align: left;background-color: #f0f8ff;}#sk-container-id-2 div.sk-toggleable__content pre {margin: 0.2em;color: black;border-radius: 0.25em;background-color: #f0f8ff;}#sk-container-id-2 input.sk-toggleable__control:checked~div.sk-toggleable__content {max-height: 200px;max-width: 100%;overflow: auto;}#sk-container-id-2 input.sk-toggleable__control:checked~label.sk-toggleable__label-arrow:before {content: \"▾\";}#sk-container-id-2 div.sk-estimator input.sk-toggleable__control:checked~label.sk-toggleable__label {background-color: #d4ebff;}#sk-container-id-2 div.sk-label input.sk-toggleable__control:checked~label.sk-toggleable__label {background-color: #d4ebff;}#sk-container-id-2 input.sk-hidden--visually {border: 0;clip: rect(1px 1px 1px 1px);clip: rect(1px, 1px, 1px, 1px);height: 1px;margin: -1px;overflow: hidden;padding: 0;position: absolute;width: 1px;}#sk-container-id-2 div.sk-estimator {font-family: monospace;background-color: #f0f8ff;border: 1px dotted black;border-radius: 0.25em;box-sizing: border-box;margin-bottom: 0.5em;}#sk-container-id-2 div.sk-estimator:hover {background-color: #d4ebff;}#sk-container-id-2 div.sk-parallel-item::after {content: \"\";width: 100%;border-bottom: 1px solid gray;flex-grow: 1;}#sk-container-id-2 div.sk-label:hover label.sk-toggleable__label {background-color: #d4ebff;}#sk-container-id-2 div.sk-serial::before {content: \"\";position: absolute;border-left: 1px solid gray;box-sizing: border-box;top: 0;bottom: 0;left: 50%;z-index: 0;}#sk-container-id-2 div.sk-serial {display: flex;flex-direction: column;align-items: center;background-color: white;padding-right: 0.2em;padding-left: 0.2em;position: relative;}#sk-container-id-2 div.sk-item {position: relative;z-index: 1;}#sk-container-id-2 div.sk-parallel {display: flex;align-items: stretch;justify-content: center;background-color: white;position: relative;}#sk-container-id-2 div.sk-item::before, #sk-container-id-2 div.sk-parallel-item::before {content: \"\";position: absolute;border-left: 1px solid gray;box-sizing: border-box;top: 0;bottom: 0;left: 50%;z-index: -1;}#sk-container-id-2 div.sk-parallel-item {display: flex;flex-direction: column;z-index: 1;position: relative;background-color: white;}#sk-container-id-2 div.sk-parallel-item:first-child::after {align-self: flex-end;width: 50%;}#sk-container-id-2 div.sk-parallel-item:last-child::after {align-self: flex-start;width: 50%;}#sk-container-id-2 div.sk-parallel-item:only-child::after {width: 0;}#sk-container-id-2 div.sk-dashed-wrapped {border: 1px dashed gray;margin: 0 0.4em 0.5em 0.4em;box-sizing: border-box;padding-bottom: 0.4em;background-color: white;}#sk-container-id-2 div.sk-label label {font-family: monospace;font-weight: bold;display: inline-block;line-height: 1.2em;}#sk-container-id-2 div.sk-label-container {text-align: center;}#sk-container-id-2 div.sk-container {/* jupyter's `normalize.less` sets `[hidden] { display: none; }` but bootstrap.min.css set `[hidden] { display: none !important; }` so we also need the `!important` here to be able to override the default hidden behavior on the sphinx rendered scikit-learn.org. See: https://github.com/scikit-learn/scikit-learn/issues/21755 */display: inline-block !important;position: relative;}#sk-container-id-2 div.sk-text-repr-fallback {display: none;}</style><div id=\"sk-container-id-2\" class=\"sk-top-container\"><div class=\"sk-text-repr-fallback\"><pre>RandomizedSearchCV(cv=5, estimator=RandomForestClassifier(random_state=42),\n",
              "                   n_iter=50, n_jobs=-1,\n",
              "                   param_distributions={&#x27;bootstrap&#x27;: [True, False],\n",
              "                                        &#x27;max_depth&#x27;: [None, 10, 20, 30, 40, 50],\n",
              "                                        &#x27;max_features&#x27;: [&#x27;sqrt&#x27;, &#x27;log2&#x27;],\n",
              "                                        &#x27;min_samples_leaf&#x27;: [1, 2, 4],\n",
              "                                        &#x27;min_samples_split&#x27;: [2, 5, 10],\n",
              "                                        &#x27;n_estimators&#x27;: [100, 200, 300, 400,\n",
              "                                                         500]},\n",
              "                   random_state=42, return_train_score=True, scoring=&#x27;accuracy&#x27;,\n",
              "                   verbose=5)</pre><b>In a Jupyter environment, please rerun this cell to show the HTML representation or trust the notebook. <br />On GitHub, the HTML representation is unable to render, please try loading this page with nbviewer.org.</b></div><div class=\"sk-container\" hidden><div class=\"sk-item sk-dashed-wrapped\"><div class=\"sk-label-container\"><div class=\"sk-label sk-toggleable\"><input class=\"sk-toggleable__control sk-hidden--visually\" id=\"sk-estimator-id-2\" type=\"checkbox\" ><label for=\"sk-estimator-id-2\" class=\"sk-toggleable__label sk-toggleable__label-arrow\">RandomizedSearchCV</label><div class=\"sk-toggleable__content\"><pre>RandomizedSearchCV(cv=5, estimator=RandomForestClassifier(random_state=42),\n",
              "                   n_iter=50, n_jobs=-1,\n",
              "                   param_distributions={&#x27;bootstrap&#x27;: [True, False],\n",
              "                                        &#x27;max_depth&#x27;: [None, 10, 20, 30, 40, 50],\n",
              "                                        &#x27;max_features&#x27;: [&#x27;sqrt&#x27;, &#x27;log2&#x27;],\n",
              "                                        &#x27;min_samples_leaf&#x27;: [1, 2, 4],\n",
              "                                        &#x27;min_samples_split&#x27;: [2, 5, 10],\n",
              "                                        &#x27;n_estimators&#x27;: [100, 200, 300, 400,\n",
              "                                                         500]},\n",
              "                   random_state=42, return_train_score=True, scoring=&#x27;accuracy&#x27;,\n",
              "                   verbose=5)</pre></div></div></div><div class=\"sk-parallel\"><div class=\"sk-parallel-item\"><div class=\"sk-item\"><div class=\"sk-label-container\"><div class=\"sk-label sk-toggleable\"><input class=\"sk-toggleable__control sk-hidden--visually\" id=\"sk-estimator-id-3\" type=\"checkbox\" ><label for=\"sk-estimator-id-3\" class=\"sk-toggleable__label sk-toggleable__label-arrow\">estimator: RandomForestClassifier</label><div class=\"sk-toggleable__content\"><pre>RandomForestClassifier(random_state=42)</pre></div></div></div><div class=\"sk-serial\"><div class=\"sk-item\"><div class=\"sk-estimator sk-toggleable\"><input class=\"sk-toggleable__control sk-hidden--visually\" id=\"sk-estimator-id-4\" type=\"checkbox\" ><label for=\"sk-estimator-id-4\" class=\"sk-toggleable__label sk-toggleable__label-arrow\">RandomForestClassifier</label><div class=\"sk-toggleable__content\"><pre>RandomForestClassifier(random_state=42)</pre></div></div></div></div></div></div></div></div></div></div>"
            ],
            "text/plain": [
              "RandomizedSearchCV(cv=5, estimator=RandomForestClassifier(random_state=42),\n",
              "                   n_iter=50, n_jobs=-1,\n",
              "                   param_distributions={'bootstrap': [True, False],\n",
              "                                        'max_depth': [None, 10, 20, 30, 40, 50],\n",
              "                                        'max_features': ['sqrt', 'log2'],\n",
              "                                        'min_samples_leaf': [1, 2, 4],\n",
              "                                        'min_samples_split': [2, 5, 10],\n",
              "                                        'n_estimators': [100, 200, 300, 400,\n",
              "                                                         500]},\n",
              "                   random_state=42, return_train_score=True, scoring='accuracy',\n",
              "                   verbose=5)"
            ]
          },
          "execution_count": 22,
          "metadata": {},
          "output_type": "execute_result"
        }
      ],
      "source": [
        "random_cv.fit(X_train_tfidf, y_train)"
      ]
    },
    {
      "cell_type": "code",
      "execution_count": 23,
      "id": "0cee9bae",
      "metadata": {
        "execution": {
          "iopub.execute_input": "2024-07-21T04:49:48.601866Z",
          "iopub.status.busy": "2024-07-21T04:49:48.601466Z",
          "iopub.status.idle": "2024-07-21T04:49:48.606592Z",
          "shell.execute_reply": "2024-07-21T04:49:48.605565Z"
        },
        "id": "0cee9bae",
        "papermill": {
          "duration": 0.016789,
          "end_time": "2024-07-21T04:49:48.608814",
          "exception": false,
          "start_time": "2024-07-21T04:49:48.592025",
          "status": "completed"
        },
        "tags": []
      },
      "outputs": [],
      "source": [
        "best_params = random_cv.best_params_\n",
        "best_score = random_cv.best_score_"
      ]
    },
    {
      "cell_type": "code",
      "execution_count": 24,
      "id": "12b5c7ef",
      "metadata": {
        "colab": {
          "base_uri": "https://localhost:8080/"
        },
        "execution": {
          "iopub.execute_input": "2024-07-21T04:49:48.626317Z",
          "iopub.status.busy": "2024-07-21T04:49:48.625904Z",
          "iopub.status.idle": "2024-07-21T04:49:48.631870Z",
          "shell.execute_reply": "2024-07-21T04:49:48.630700Z"
        },
        "id": "12b5c7ef",
        "outputId": "e818e307-af88-438e-9dbd-0c2bdea0f5a0",
        "papermill": {
          "duration": 0.017485,
          "end_time": "2024-07-21T04:49:48.634157",
          "exception": false,
          "start_time": "2024-07-21T04:49:48.616672",
          "status": "completed"
        },
        "tags": []
      },
      "outputs": [
        {
          "name": "stdout",
          "output_type": "stream",
          "text": [
            "Best parameters: {'n_estimators': 400, 'min_samples_split': 5, 'min_samples_leaf': 1, 'max_features': 'sqrt', 'max_depth': None, 'bootstrap': False}\n",
            "Best score: 0.8596428571428572\n"
          ]
        }
      ],
      "source": [
        "print(f'Best parameters: {best_params}')\n",
        "print(f'Best score: {best_score}')"
      ]
    },
    {
      "cell_type": "code",
      "execution_count": 25,
      "id": "c7dfae3c",
      "metadata": {
        "execution": {
          "iopub.execute_input": "2024-07-21T04:49:48.652420Z",
          "iopub.status.busy": "2024-07-21T04:49:48.651260Z",
          "iopub.status.idle": "2024-07-21T04:49:48.723373Z",
          "shell.execute_reply": "2024-07-21T04:49:48.722303Z"
        },
        "id": "c7dfae3c",
        "papermill": {
          "duration": 0.083796,
          "end_time": "2024-07-21T04:49:48.725846",
          "exception": false,
          "start_time": "2024-07-21T04:49:48.642050",
          "status": "completed"
        },
        "tags": []
      },
      "outputs": [],
      "source": [
        "best_model_forest = random_cv.best_estimator_\n",
        "y_pred = best_model_forest.predict(X_test_tfidf)"
      ]
    },
    {
      "cell_type": "code",
      "execution_count": 26,
      "id": "20174443",
      "metadata": {
        "colab": {
          "base_uri": "https://localhost:8080/"
        },
        "execution": {
          "iopub.execute_input": "2024-07-21T04:49:48.744431Z",
          "iopub.status.busy": "2024-07-21T04:49:48.742870Z",
          "iopub.status.idle": "2024-07-21T04:49:48.758749Z",
          "shell.execute_reply": "2024-07-21T04:49:48.757354Z"
        },
        "id": "20174443",
        "outputId": "d2a0bb26-24f5-463d-b507-41ce0bd7e334",
        "papermill": {
          "duration": 0.027744,
          "end_time": "2024-07-21T04:49:48.761424",
          "exception": false,
          "start_time": "2024-07-21T04:49:48.733680",
          "status": "completed"
        },
        "tags": []
      },
      "outputs": [
        {
          "name": "stdout",
          "output_type": "stream",
          "text": [
            "Accuracy on test set: 0.87\n",
            "Classification Report:\n",
            "              precision    recall  f1-score   support\n",
            "\n",
            "    negative       0.90      0.63      0.74       115\n",
            "     neutral       0.82      0.83      0.82       158\n",
            "    positive       0.88      0.95      0.92       427\n",
            "\n",
            "    accuracy                           0.87       700\n",
            "   macro avg       0.87      0.80      0.83       700\n",
            "weighted avg       0.87      0.87      0.87       700\n",
            "\n"
          ]
        }
      ],
      "source": [
        "accuracy = accuracy_score(y_test, y_pred)\n",
        "report = classification_report(y_test, y_pred, target_names=label_encoder.classes_)\n",
        "\n",
        "print(f'Accuracy on test set: {accuracy}')\n",
        "print('Classification Report:')\n",
        "print(report)"
      ]
    },
    {
      "cell_type": "code",
      "execution_count": 27,
      "id": "Dg7h1Yp4grHY",
      "metadata": {
        "id": "Dg7h1Yp4grHY"
      },
      "outputs": [],
      "source": [
        "import pickle\n",
        "\n",
        "# Save the model to a file\n",
        "filename = 'sentiment_analysis_model.h5'\n",
        "pickle.dump(best_model_forest, open(filename, 'wb'))\n"
      ]
    },
    {
      "cell_type": "code",
      "execution_count": 28,
      "id": "CmIp_xPAicDA",
      "metadata": {
        "colab": {
          "base_uri": "https://localhost:8080/"
        },
        "id": "CmIp_xPAicDA",
        "outputId": "4442f7c6-636f-438b-f5de-ad29bb53f06e"
      },
      "outputs": [
        {
          "name": "stdout",
          "output_type": "stream",
          "text": [
            "Predicted sentiment: positive\n"
          ]
        }
      ],
      "source": [
        "loaded_model = pickle.load(open('sentiment_analysis_model.h5', 'rb'))\n",
        "text_input = \"This is a great product! I am very happy with it.\"\n",
        "text_input_tfidf = vectorizer.transform([text_input])\n",
        "prediction = loaded_model.predict(text_input_tfidf)\n",
        "predicted_sentiment = label_encoder.inverse_transform(prediction)[0]\n",
        "print(f\"Predicted sentiment: {predicted_sentiment}\")\n"
      ]
    },
    {
      "cell_type": "code",
      "execution_count": 30,
      "id": "0E3CTeQ1ii-U",
      "metadata": {
        "colab": {
          "base_uri": "https://localhost:8080/"
        },
        "id": "0E3CTeQ1ii-U",
        "outputId": "7a506b98-d4ff-4b0f-dcd5-d7ae2cac9b98"
      },
      "outputs": [
        {
          "name": "stdout",
          "output_type": "stream",
          "text": [
            "Predicted sentiment: neutral\n"
          ]
        }
      ],
      "source": [
        "# prompt: give a  very negative news to predict\n",
        "\n",
        "text_input = \"The company's stock plummeted after a disastrous earnings report, leading to widespread layoffs and a loss of investor confidence.\"\n",
        "text_input_tfidf = vectorizer.transform([text_input])\n",
        "prediction = loaded_model.predict(text_input_tfidf)\n",
        "predicted_sentiment = label_encoder.inverse_transform(prediction)[0]\n",
        "print(f\"Predicted sentiment: {predicted_sentiment}\")\n"
      ]
    },
    {
      "cell_type": "code",
      "execution_count": 32,
      "id": "iHcopQhqnw_m",
      "metadata": {
        "id": "iHcopQhqnw_m"
      },
      "outputs": [],
      "source": [
        "\n",
        "filename = 'sentiment_analysis_model.h5'\n",
        "pickle.dump(best_model_forest, open(filename, 'wb'))\n"
      ]
    }
  ],
  "metadata": {
    "accelerator": "GPU",
    "colab": {
      "gpuType": "T4",
      "provenance": []
    },
    "kaggle": {
      "accelerator": "none",
      "dataSources": [
        {
          "datasetId": 5412398,
          "sourceId": 8986804,
          "sourceType": "datasetVersion"
        }
      ],
      "dockerImageVersionId": 30746,
      "isGpuEnabled": false,
      "isInternetEnabled": true,
      "language": "python",
      "sourceType": "notebook"
    },
    "kernelspec": {
      "display_name": "Python 3",
      "name": "python3"
    },
    "language_info": {
      "codemirror_mode": {
        "name": "ipython",
        "version": 3
      },
      "file_extension": ".py",
      "mimetype": "text/x-python",
      "name": "python",
      "nbconvert_exporter": "python",
      "pygments_lexer": "ipython3",
      "version": "3.10.13"
    },
    "papermill": {
      "default_parameters": {},
      "duration": 181.73259,
      "end_time": "2024-07-21T04:49:51.391105",
      "environment_variables": {},
      "exception": null,
      "input_path": "__notebook__.ipynb",
      "output_path": "__notebook__.ipynb",
      "parameters": {},
      "start_time": "2024-07-21T04:46:49.658515",
      "version": "2.5.0"
    }
  },
  "nbformat": 4,
  "nbformat_minor": 5
}
